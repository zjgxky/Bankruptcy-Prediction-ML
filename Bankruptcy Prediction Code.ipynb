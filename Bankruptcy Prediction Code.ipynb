{
  "nbformat": 4,
  "nbformat_minor": 0,
  "metadata": {
    "colab": {
      "provenance": [],
      "collapsed_sections": [
        "whfjRn86P96_",
        "rNKQ9oU8Qfmr",
        "MbzdQ8GPQq4_"
      ]
    },
    "kernelspec": {
      "name": "python3",
      "display_name": "Python 3"
    },
    "language_info": {
      "name": "python"
    }
  },
  "cells": [
    {
      "cell_type": "code",
      "execution_count": null,
      "metadata": {
        "id": "uTuUuv6XZ6GO"
      },
      "outputs": [],
      "source": [
        "import numpy as np\n",
        "import pandas as pd # data processing, CSV file I/O (e.g. pd.read_csv)"
      ]
    },
    {
      "cell_type": "code",
      "source": [
        "from google.colab import drive\n",
        "drive.mount('/content/drive')"
      ],
      "metadata": {
        "colab": {
          "base_uri": "https://localhost:8080/"
        },
        "id": "D-ftpOCEU9TU",
        "outputId": "dfe2b504-a7dd-4c6a-b2be-cfd28bbf57fd"
      },
      "execution_count": null,
      "outputs": [
        {
          "output_type": "stream",
          "name": "stdout",
          "text": [
            "Drive already mounted at /content/drive; to attempt to forcibly remount, call drive.mount(\"/content/drive\", force_remount=True).\n"
          ]
        }
      ]
    },
    {
      "cell_type": "code",
      "source": [
        "data = pd.read_csv(\"/content/drive/My Drive/CS542 Project/data.csv\")\n",
        "data.head()"
      ],
      "metadata": {
        "colab": {
          "base_uri": "https://localhost:8080/",
          "height": 386
        },
        "id": "73Y732ENNDed",
        "outputId": "8c5df8fc-b7cf-4b29-bcfc-5306c48ab900"
      },
      "execution_count": null,
      "outputs": [
        {
          "output_type": "execute_result",
          "data": {
            "text/plain": [
              "   Bankrupt?   ROA(C) before interest and depreciation before interest  \\\n",
              "0          1                                           0.370594          \n",
              "1          1                                           0.464291          \n",
              "2          1                                           0.426071          \n",
              "3          1                                           0.399844          \n",
              "4          1                                           0.465022          \n",
              "\n",
              "    ROA(A) before interest and % after tax  \\\n",
              "0                                 0.424389   \n",
              "1                                 0.538214   \n",
              "2                                 0.499019   \n",
              "3                                 0.451265   \n",
              "4                                 0.538432   \n",
              "\n",
              "    ROA(B) before interest and depreciation after tax  \\\n",
              "0                                           0.405750    \n",
              "1                                           0.516730    \n",
              "2                                           0.472295    \n",
              "3                                           0.457733    \n",
              "4                                           0.522298    \n",
              "\n",
              "    Operating Gross Margin   Realized Sales Gross Margin  \\\n",
              "0                 0.601457                      0.601457   \n",
              "1                 0.610235                      0.610235   \n",
              "2                 0.601450                      0.601364   \n",
              "3                 0.583541                      0.583541   \n",
              "4                 0.598783                      0.598783   \n",
              "\n",
              "    Operating Profit Rate   Pre-tax net Interest Rate  \\\n",
              "0                0.998969                    0.796887   \n",
              "1                0.998946                    0.797380   \n",
              "2                0.998857                    0.796403   \n",
              "3                0.998700                    0.796967   \n",
              "4                0.998973                    0.797366   \n",
              "\n",
              "    After-tax net Interest Rate   Non-industry income and expenditure/revenue  \\\n",
              "0                      0.808809                                      0.302646   \n",
              "1                      0.809301                                      0.303556   \n",
              "2                      0.808388                                      0.302035   \n",
              "3                      0.808966                                      0.303350   \n",
              "4                      0.809304                                      0.303475   \n",
              "\n",
              "   ...   Net Income to Total Assets   Total assets to GNP price  \\\n",
              "0  ...                     0.716845                    0.009219   \n",
              "1  ...                     0.795297                    0.008323   \n",
              "2  ...                     0.774670                    0.040003   \n",
              "3  ...                     0.739555                    0.003252   \n",
              "4  ...                     0.795016                    0.003878   \n",
              "\n",
              "    No-credit Interval   Gross Profit to Sales  \\\n",
              "0             0.622879                0.601453   \n",
              "1             0.623652                0.610237   \n",
              "2             0.623841                0.601449   \n",
              "3             0.622929                0.583538   \n",
              "4             0.623521                0.598782   \n",
              "\n",
              "    Net Income to Stockholder's Equity   Liability to Equity  \\\n",
              "0                             0.827890              0.290202   \n",
              "1                             0.839969              0.283846   \n",
              "2                             0.836774              0.290189   \n",
              "3                             0.834697              0.281721   \n",
              "4                             0.839973              0.278514   \n",
              "\n",
              "    Degree of Financial Leverage (DFL)  \\\n",
              "0                             0.026601   \n",
              "1                             0.264577   \n",
              "2                             0.026555   \n",
              "3                             0.026697   \n",
              "4                             0.024752   \n",
              "\n",
              "    Interest Coverage Ratio (Interest expense to EBIT)   Net Income Flag  \\\n",
              "0                                           0.564050                   1   \n",
              "1                                           0.570175                   1   \n",
              "2                                           0.563706                   1   \n",
              "3                                           0.564663                   1   \n",
              "4                                           0.575617                   1   \n",
              "\n",
              "    Equity to Liability  \n",
              "0              0.016469  \n",
              "1              0.020794  \n",
              "2              0.016474  \n",
              "3              0.023982  \n",
              "4              0.035490  \n",
              "\n",
              "[5 rows x 96 columns]"
            ],
            "text/html": [
              "\n",
              "  <div id=\"df-ec591151-07c6-49fa-95c1-6290d4a149b1\">\n",
              "    <div class=\"colab-df-container\">\n",
              "      <div>\n",
              "<style scoped>\n",
              "    .dataframe tbody tr th:only-of-type {\n",
              "        vertical-align: middle;\n",
              "    }\n",
              "\n",
              "    .dataframe tbody tr th {\n",
              "        vertical-align: top;\n",
              "    }\n",
              "\n",
              "    .dataframe thead th {\n",
              "        text-align: right;\n",
              "    }\n",
              "</style>\n",
              "<table border=\"1\" class=\"dataframe\">\n",
              "  <thead>\n",
              "    <tr style=\"text-align: right;\">\n",
              "      <th></th>\n",
              "      <th>Bankrupt?</th>\n",
              "      <th>ROA(C) before interest and depreciation before interest</th>\n",
              "      <th>ROA(A) before interest and % after tax</th>\n",
              "      <th>ROA(B) before interest and depreciation after tax</th>\n",
              "      <th>Operating Gross Margin</th>\n",
              "      <th>Realized Sales Gross Margin</th>\n",
              "      <th>Operating Profit Rate</th>\n",
              "      <th>Pre-tax net Interest Rate</th>\n",
              "      <th>After-tax net Interest Rate</th>\n",
              "      <th>Non-industry income and expenditure/revenue</th>\n",
              "      <th>...</th>\n",
              "      <th>Net Income to Total Assets</th>\n",
              "      <th>Total assets to GNP price</th>\n",
              "      <th>No-credit Interval</th>\n",
              "      <th>Gross Profit to Sales</th>\n",
              "      <th>Net Income to Stockholder's Equity</th>\n",
              "      <th>Liability to Equity</th>\n",
              "      <th>Degree of Financial Leverage (DFL)</th>\n",
              "      <th>Interest Coverage Ratio (Interest expense to EBIT)</th>\n",
              "      <th>Net Income Flag</th>\n",
              "      <th>Equity to Liability</th>\n",
              "    </tr>\n",
              "  </thead>\n",
              "  <tbody>\n",
              "    <tr>\n",
              "      <th>0</th>\n",
              "      <td>1</td>\n",
              "      <td>0.370594</td>\n",
              "      <td>0.424389</td>\n",
              "      <td>0.405750</td>\n",
              "      <td>0.601457</td>\n",
              "      <td>0.601457</td>\n",
              "      <td>0.998969</td>\n",
              "      <td>0.796887</td>\n",
              "      <td>0.808809</td>\n",
              "      <td>0.302646</td>\n",
              "      <td>...</td>\n",
              "      <td>0.716845</td>\n",
              "      <td>0.009219</td>\n",
              "      <td>0.622879</td>\n",
              "      <td>0.601453</td>\n",
              "      <td>0.827890</td>\n",
              "      <td>0.290202</td>\n",
              "      <td>0.026601</td>\n",
              "      <td>0.564050</td>\n",
              "      <td>1</td>\n",
              "      <td>0.016469</td>\n",
              "    </tr>\n",
              "    <tr>\n",
              "      <th>1</th>\n",
              "      <td>1</td>\n",
              "      <td>0.464291</td>\n",
              "      <td>0.538214</td>\n",
              "      <td>0.516730</td>\n",
              "      <td>0.610235</td>\n",
              "      <td>0.610235</td>\n",
              "      <td>0.998946</td>\n",
              "      <td>0.797380</td>\n",
              "      <td>0.809301</td>\n",
              "      <td>0.303556</td>\n",
              "      <td>...</td>\n",
              "      <td>0.795297</td>\n",
              "      <td>0.008323</td>\n",
              "      <td>0.623652</td>\n",
              "      <td>0.610237</td>\n",
              "      <td>0.839969</td>\n",
              "      <td>0.283846</td>\n",
              "      <td>0.264577</td>\n",
              "      <td>0.570175</td>\n",
              "      <td>1</td>\n",
              "      <td>0.020794</td>\n",
              "    </tr>\n",
              "    <tr>\n",
              "      <th>2</th>\n",
              "      <td>1</td>\n",
              "      <td>0.426071</td>\n",
              "      <td>0.499019</td>\n",
              "      <td>0.472295</td>\n",
              "      <td>0.601450</td>\n",
              "      <td>0.601364</td>\n",
              "      <td>0.998857</td>\n",
              "      <td>0.796403</td>\n",
              "      <td>0.808388</td>\n",
              "      <td>0.302035</td>\n",
              "      <td>...</td>\n",
              "      <td>0.774670</td>\n",
              "      <td>0.040003</td>\n",
              "      <td>0.623841</td>\n",
              "      <td>0.601449</td>\n",
              "      <td>0.836774</td>\n",
              "      <td>0.290189</td>\n",
              "      <td>0.026555</td>\n",
              "      <td>0.563706</td>\n",
              "      <td>1</td>\n",
              "      <td>0.016474</td>\n",
              "    </tr>\n",
              "    <tr>\n",
              "      <th>3</th>\n",
              "      <td>1</td>\n",
              "      <td>0.399844</td>\n",
              "      <td>0.451265</td>\n",
              "      <td>0.457733</td>\n",
              "      <td>0.583541</td>\n",
              "      <td>0.583541</td>\n",
              "      <td>0.998700</td>\n",
              "      <td>0.796967</td>\n",
              "      <td>0.808966</td>\n",
              "      <td>0.303350</td>\n",
              "      <td>...</td>\n",
              "      <td>0.739555</td>\n",
              "      <td>0.003252</td>\n",
              "      <td>0.622929</td>\n",
              "      <td>0.583538</td>\n",
              "      <td>0.834697</td>\n",
              "      <td>0.281721</td>\n",
              "      <td>0.026697</td>\n",
              "      <td>0.564663</td>\n",
              "      <td>1</td>\n",
              "      <td>0.023982</td>\n",
              "    </tr>\n",
              "    <tr>\n",
              "      <th>4</th>\n",
              "      <td>1</td>\n",
              "      <td>0.465022</td>\n",
              "      <td>0.538432</td>\n",
              "      <td>0.522298</td>\n",
              "      <td>0.598783</td>\n",
              "      <td>0.598783</td>\n",
              "      <td>0.998973</td>\n",
              "      <td>0.797366</td>\n",
              "      <td>0.809304</td>\n",
              "      <td>0.303475</td>\n",
              "      <td>...</td>\n",
              "      <td>0.795016</td>\n",
              "      <td>0.003878</td>\n",
              "      <td>0.623521</td>\n",
              "      <td>0.598782</td>\n",
              "      <td>0.839973</td>\n",
              "      <td>0.278514</td>\n",
              "      <td>0.024752</td>\n",
              "      <td>0.575617</td>\n",
              "      <td>1</td>\n",
              "      <td>0.035490</td>\n",
              "    </tr>\n",
              "  </tbody>\n",
              "</table>\n",
              "<p>5 rows × 96 columns</p>\n",
              "</div>\n",
              "      <button class=\"colab-df-convert\" onclick=\"convertToInteractive('df-ec591151-07c6-49fa-95c1-6290d4a149b1')\"\n",
              "              title=\"Convert this dataframe to an interactive table.\"\n",
              "              style=\"display:none;\">\n",
              "        \n",
              "  <svg xmlns=\"http://www.w3.org/2000/svg\" height=\"24px\"viewBox=\"0 0 24 24\"\n",
              "       width=\"24px\">\n",
              "    <path d=\"M0 0h24v24H0V0z\" fill=\"none\"/>\n",
              "    <path d=\"M18.56 5.44l.94 2.06.94-2.06 2.06-.94-2.06-.94-.94-2.06-.94 2.06-2.06.94zm-11 1L8.5 8.5l.94-2.06 2.06-.94-2.06-.94L8.5 2.5l-.94 2.06-2.06.94zm10 10l.94 2.06.94-2.06 2.06-.94-2.06-.94-.94-2.06-.94 2.06-2.06.94z\"/><path d=\"M17.41 7.96l-1.37-1.37c-.4-.4-.92-.59-1.43-.59-.52 0-1.04.2-1.43.59L10.3 9.45l-7.72 7.72c-.78.78-.78 2.05 0 2.83L4 21.41c.39.39.9.59 1.41.59.51 0 1.02-.2 1.41-.59l7.78-7.78 2.81-2.81c.8-.78.8-2.07 0-2.86zM5.41 20L4 18.59l7.72-7.72 1.47 1.35L5.41 20z\"/>\n",
              "  </svg>\n",
              "      </button>\n",
              "      \n",
              "  <style>\n",
              "    .colab-df-container {\n",
              "      display:flex;\n",
              "      flex-wrap:wrap;\n",
              "      gap: 12px;\n",
              "    }\n",
              "\n",
              "    .colab-df-convert {\n",
              "      background-color: #E8F0FE;\n",
              "      border: none;\n",
              "      border-radius: 50%;\n",
              "      cursor: pointer;\n",
              "      display: none;\n",
              "      fill: #1967D2;\n",
              "      height: 32px;\n",
              "      padding: 0 0 0 0;\n",
              "      width: 32px;\n",
              "    }\n",
              "\n",
              "    .colab-df-convert:hover {\n",
              "      background-color: #E2EBFA;\n",
              "      box-shadow: 0px 1px 2px rgba(60, 64, 67, 0.3), 0px 1px 3px 1px rgba(60, 64, 67, 0.15);\n",
              "      fill: #174EA6;\n",
              "    }\n",
              "\n",
              "    [theme=dark] .colab-df-convert {\n",
              "      background-color: #3B4455;\n",
              "      fill: #D2E3FC;\n",
              "    }\n",
              "\n",
              "    [theme=dark] .colab-df-convert:hover {\n",
              "      background-color: #434B5C;\n",
              "      box-shadow: 0px 1px 3px 1px rgba(0, 0, 0, 0.15);\n",
              "      filter: drop-shadow(0px 1px 2px rgba(0, 0, 0, 0.3));\n",
              "      fill: #FFFFFF;\n",
              "    }\n",
              "  </style>\n",
              "\n",
              "      <script>\n",
              "        const buttonEl =\n",
              "          document.querySelector('#df-ec591151-07c6-49fa-95c1-6290d4a149b1 button.colab-df-convert');\n",
              "        buttonEl.style.display =\n",
              "          google.colab.kernel.accessAllowed ? 'block' : 'none';\n",
              "\n",
              "        async function convertToInteractive(key) {\n",
              "          const element = document.querySelector('#df-ec591151-07c6-49fa-95c1-6290d4a149b1');\n",
              "          const dataTable =\n",
              "            await google.colab.kernel.invokeFunction('convertToInteractive',\n",
              "                                                     [key], {});\n",
              "          if (!dataTable) return;\n",
              "\n",
              "          const docLinkHtml = 'Like what you see? Visit the ' +\n",
              "            '<a target=\"_blank\" href=https://colab.research.google.com/notebooks/data_table.ipynb>data table notebook</a>'\n",
              "            + ' to learn more about interactive tables.';\n",
              "          element.innerHTML = '';\n",
              "          dataTable['output_type'] = 'display_data';\n",
              "          await google.colab.output.renderOutput(dataTable, element);\n",
              "          const docLink = document.createElement('div');\n",
              "          docLink.innerHTML = docLinkHtml;\n",
              "          element.appendChild(docLink);\n",
              "        }\n",
              "      </script>\n",
              "    </div>\n",
              "  </div>\n",
              "  "
            ]
          },
          "metadata": {},
          "execution_count": 17
        }
      ]
    },
    {
      "cell_type": "code",
      "source": [
        "X=data.drop(labels=['Bankrupt?'], axis=1)\n",
        "y=data['Bankrupt?']"
      ],
      "metadata": {
        "id": "gBa37oDFa6H3"
      },
      "execution_count": null,
      "outputs": []
    },
    {
      "cell_type": "code",
      "source": [
        "data['Bankrupt?']"
      ],
      "metadata": {
        "colab": {
          "base_uri": "https://localhost:8080/"
        },
        "id": "eaRCO6vmTHq7",
        "outputId": "5c083d25-7202-4919-98d5-cbbe92e20545"
      },
      "execution_count": null,
      "outputs": [
        {
          "output_type": "execute_result",
          "data": {
            "text/plain": [
              "0       1\n",
              "1       1\n",
              "2       1\n",
              "3       1\n",
              "4       1\n",
              "       ..\n",
              "6814    0\n",
              "6815    0\n",
              "6816    0\n",
              "6817    0\n",
              "6818    0\n",
              "Name: Bankrupt?, Length: 6819, dtype: int64"
            ]
          },
          "metadata": {},
          "execution_count": 31
        }
      ]
    },
    {
      "cell_type": "markdown",
      "source": [
        "# Preprocessing and Visualization"
      ],
      "metadata": {
        "id": "GgTiX2fZ5cmK"
      }
    },
    {
      "cell_type": "code",
      "source": [
        "data['Bankrupt?'].value_counts()"
      ],
      "metadata": {
        "id": "2m546O5qN9QA",
        "colab": {
          "base_uri": "https://localhost:8080/"
        },
        "outputId": "a7cacd4b-d8aa-4ede-892a-3e40ff880388"
      },
      "execution_count": null,
      "outputs": [
        {
          "output_type": "execute_result",
          "data": {
            "text/plain": [
              "0    6599\n",
              "1     220\n",
              "Name: Bankrupt?, dtype: int64"
            ]
          },
          "metadata": {},
          "execution_count": 19
        }
      ]
    },
    {
      "cell_type": "code",
      "source": [
        "import seaborn as sns\n",
        "sns.countplot(x=y)"
      ],
      "metadata": {
        "colab": {
          "base_uri": "https://localhost:8080/",
          "height": 297
        },
        "id": "fB_7WbGnf0gT",
        "outputId": "0b106460-db05-47e2-b7ab-cd797335dc70"
      },
      "execution_count": null,
      "outputs": [
        {
          "output_type": "execute_result",
          "data": {
            "text/plain": [
              "<matplotlib.axes._subplots.AxesSubplot at 0x7fba06b76b90>"
            ]
          },
          "metadata": {},
          "execution_count": 20
        },
        {
          "output_type": "display_data",
          "data": {
            "text/plain": [
              "<Figure size 432x288 with 1 Axes>"
            ],
            "image/png": "[encoded data removed]"
          },
          "metadata": {
            "needs_background": "light"
          }
        }
      ]
    },
    {
      "cell_type": "markdown",
      "source": [
        "# Feature Extraction"
      ],
      "metadata": {
        "id": "x2-NYTO0lkSU"
      }
    },
    {
      "cell_type": "code",
      "source": [
        "from sklearn.model_selection import train_test_split\n",
        "\n",
        "# In the first step we will split the data in training and remaining dataset\n",
        "train_X, rem_X, train_y, rem_y = train_test_split(X, y, train_size=0.8)\n",
        "\n",
        "# Now since we want the valid and test size to be equal (10% each of overall data).\n",
        "# we have to define valid_size = 0.5 (that is 50% of remaining data)\n",
        "valid_X, test_X, y_valid, y_test = train_test_split(rem_X, rem_y, test_size=0.5)\n",
        "\n",
        "print(train_X.shape), print(train_y.shape)\n",
        "print(valid_X.shape), print(y_valid.shape)\n",
        "print(test_X.shape), print(y_test.shape)"
      ],
      "metadata": {
        "colab": {
          "base_uri": "https://localhost:8080/"
        },
        "outputId": "0380cd65-ae9f-4199-9bb1-ee087e759689",
        "id": "baQqdcfslkSV"
      },
      "execution_count": null,
      "outputs": [
        {
          "output_type": "stream",
          "name": "stdout",
          "text": [
            "(5455, 95)\n",
            "(5455,)\n",
            "(682, 95)\n",
            "(682,)\n",
            "(682, 95)\n",
            "(682,)\n"
          ]
        },
        {
          "output_type": "execute_result",
          "data": {
            "text/plain": [
              "(None, None)"
            ]
          },
          "metadata": {},
          "execution_count": 21
        }
      ]
    },
    {
      "cell_type": "markdown",
      "source": [
        "Feature Scaling"
      ],
      "metadata": {
        "id": "3dXu5auSkKpA"
      }
    },
    {
      "cell_type": "code",
      "source": [
        "from sklearn.preprocessing import StandardScaler\n",
        "scaler=StandardScaler()\n",
        "X_scale_train=scaler.fit_transform(train_X)\n",
        "X_scale_valid=scaler.fit_transform(valid_X)\n",
        "X_scale_test=scaler.fit_transform(test_X)\n",
        "print(X_scale_train.shape)\n",
        "print(X_scale_valid.shape)\n",
        "print(X_scale_test.shape)"
      ],
      "metadata": {
        "colab": {
          "base_uri": "https://localhost:8080/"
        },
        "outputId": "6288b15b-ea5b-4b9c-8e84-9722ad945321",
        "id": "NJsGnNpllkSX"
      },
      "execution_count": null,
      "outputs": [
        {
          "output_type": "stream",
          "name": "stdout",
          "text": [
            "(5455, 95)\n",
            "(682, 95)\n",
            "(682, 95)\n"
          ]
        }
      ]
    },
    {
      "cell_type": "markdown",
      "source": [
        "Validate PCA - Choose the best number of components"
      ],
      "metadata": {
        "id": "EINNdBZYkZZq"
      }
    },
    {
      "cell_type": "code",
      "source": [
        "from sklearn.decomposition import PCA\n",
        "import matplotlib.pyplot as plt\n",
        "pca1 = PCA(n_components=20)\n",
        "Principal_components=pca1.fit_transform(X_scale_train)\n",
        "\n",
        "PC_values = np.arange(pca1.n_components_) + 1\n",
        "plt.plot(PC_values, pca1.explained_variance_ratio_, 'ro-', linewidth=2)\n",
        "plt.title('Scree Plot')\n",
        "plt.xlabel('Principal Component')\n",
        "plt.ylabel('Proportion of Variance Explained')\n",
        "plt.show()\n",
        "\n",
        "print (\"Proportion of Variance Explained : \", pca1.explained_variance_ratio_)\n",
        "out_sum = np.cumsum(pca1.explained_variance_ratio_)\n",
        "print (\"Cumulative Prop. Variance Explained: \", out_sum)\n"
      ],
      "metadata": {
        "colab": {
          "base_uri": "https://localhost:8080/",
          "height": 438
        },
        "id": "cPd4bkODVgXh",
        "outputId": "b49362a0-0a94-4cbd-e440-75b56e6c84d8"
      },
      "execution_count": null,
      "outputs": [
        {
          "output_type": "display_data",
          "data": {
            "text/plain": [
              "<Figure size 432x288 with 1 Axes>"
            ],
            "image/png": "[encoded data removed]"
          },
          "metadata": {
            "needs_background": "light"
          }
        },
        {
          "output_type": "stream",
          "name": "stdout",
          "text": [
            "Proportion of Variance Explained :  [0.133783   0.07393166 0.0702306  0.05080004 0.04665728 0.03290042\n",
            " 0.030231   0.02865194 0.02142379 0.02122445 0.01965476 0.0183531\n",
            " 0.01630591 0.01600546 0.01534257 0.01430826 0.01405015 0.01284531\n",
            " 0.01245824 0.01211979]\n",
            "Cumulative Prop. Variance Explained:  [0.133783   0.20771466 0.27794526 0.3287453  0.37540258 0.408303\n",
            " 0.43853399 0.46718594 0.48860973 0.50983418 0.52948894 0.54784203\n",
            " 0.56414795 0.5801534  0.59549597 0.60980424 0.62385439 0.6366997\n",
            " 0.64915795 0.66127774]\n"
          ]
        }
      ]
    },
    {
      "cell_type": "markdown",
      "source": [
        "Choose best K features"
      ],
      "metadata": {
        "id": "SnKLO1Xqken5"
      }
    },
    {
      "cell_type": "code",
      "source": [
        "#from sklearn.feature_selection import mutual_info_classif\n",
        "#mi = mutual_info_classif(train_X, train_y)\n",
        "#mi\n",
        "#mi = pd.Series(mi)\n",
        "#mi.index = train_X.columns\n",
        "#mi.sort_values(ascending=False).plot.bar(figsize=(20, 6))\n",
        "#plt.ylabel('Mutual Information')"
      ],
      "metadata": {
        "id": "ZB_eaepjZMT2"
      },
      "execution_count": null,
      "outputs": []
    },
    {
      "cell_type": "code",
      "source": [],
      "metadata": {
        "id": "YI4U9JitEhM6"
      },
      "execution_count": null,
      "outputs": []
    },
    {
      "cell_type": "code",
      "source": [
        "from sklearn.feature_selection import SelectFromModel, mutual_info_classif, f_classif, SelectKBest\n",
        "from sklearn.decomposition import PCA\n",
        "from matplotlib.pyplot import figure\n",
        "from sklearn.discriminant_analysis import LinearDiscriminantAnalysis\n",
        "\n",
        "def feature_extraction(method: np.ndarray = None):\n",
        "    sns.countplot(x=train_y)\n",
        "    if method == \"PCA\":\n",
        "        pca = PCA(n_components=6)\n",
        "        X_train = pca.fit_transform(X_scale_train)\n",
        "        X_valid = pca.fit_transform(X_scale_valid)\n",
        "        X_test = pca.fit_transform(X_scale_test)\n",
        "    if method == \"SelectKBest\":\n",
        "        feature_selection=SelectKBest(mutual_info_classif,k=5).fit(train_X,train_y)\n",
        "        selected_features=X.columns[feature_selection.get_support()]\n",
        "        print(selected_features)\n",
        "        Xreduced_train = train_X[selected_features]\n",
        "        Xreduced_valid = valid_X[selected_features]\n",
        "        Xreduced_test = test_X[selected_features]\n",
        "        X_train = scaler.fit_transform(Xreduced_train)\n",
        "        X_valid = scaler.fit_transform(Xreduced_valid)\n",
        "        X_test = scaler.fit_transform(Xreduced_test)\n",
        "    if method == \"LDA\":\n",
        "        lda = LinearDiscriminantAnalysis(n_components=1)\n",
        "        X_train = lda.fit(X_scale_train, train_y).transform(X_scale_train)\n",
        "        X_valid = lda.fit(X_scale_valid, y_valid).transform(X_scale_valid)\n",
        "        X_test = lda.fit(X_scale_test, y_test).transform(X_scale_test)\n",
        "    return X_train, X_valid, X_test"
      ],
      "metadata": {
        "id": "WWrkIU4nlkSY"
      },
      "execution_count": null,
      "outputs": []
    },
    {
      "cell_type": "code",
      "source": [
        "X_train_imbal, X_valid, X_test = feature_extraction(\"SelectKBest\")\n",
        "print()\n",
        "print(X_train_imbal.shape)\n",
        "print(X_valid.shape)\n",
        "print(X_test.shape)"
      ],
      "metadata": {
        "id": "H9z54uVSlkSZ",
        "colab": {
          "base_uri": "https://localhost:8080/",
          "height": 440
        },
        "outputId": "f9efc9d3-bd50-4ed6-8f45-2621148662dc"
      },
      "execution_count": null,
      "outputs": [
        {
          "output_type": "stream",
          "name": "stdout",
          "text": [
            "Index([' Persistent EPS in the Last Four Seasons',\n",
            "       ' Per Share Net profit before tax (Yuan ¥)', ' Borrowing dependency',\n",
            "       ' Net profit before tax/Paid-in capital',\n",
            "       ' Net Income to Stockholder's Equity'],\n",
            "      dtype='object')\n",
            "\n",
            "(5455, 5)\n",
            "(682, 5)\n",
            "(682, 5)\n"
          ]
        },
        {
          "output_type": "display_data",
          "data": {
            "text/plain": [
              "<Figure size 432x288 with 1 Axes>"
            ],
            "image/png": "[encoded data removed]"
          },
          "metadata": {
            "needs_background": "light"
          }
        }
      ]
    },
    {
      "cell_type": "markdown",
      "source": [
        "Solve imbalance using smote"
      ],
      "metadata": {
        "id": "n4lvlrvBk7C0"
      }
    },
    {
      "cell_type": "code",
      "source": [
        "from imblearn.over_sampling import SMOTE\n",
        "sm = SMOTE(random_state=42)\n",
        "X_train, y_train = sm.fit_resample(X_train_imbal, train_y)\n",
        "\n",
        "print(X_train.shape), print(y_train.shape)\n",
        "print(X_valid.shape), print(y_valid.shape)\n",
        "print(X_test.shape), print(y_test.shape)"
      ],
      "metadata": {
        "id": "-mDqDAuolkSZ",
        "colab": {
          "base_uri": "https://localhost:8080/"
        },
        "outputId": "8d26bec8-5c04-4cfd-a27f-019d0beb1339"
      },
      "execution_count": null,
      "outputs": [
        {
          "output_type": "stream",
          "name": "stdout",
          "text": [
            "(10558, 6)\n",
            "(10558,)\n",
            "(682, 6)\n",
            "(682,)\n",
            "(682, 6)\n",
            "(682,)\n"
          ]
        },
        {
          "output_type": "execute_result",
          "data": {
            "text/plain": [
              "(None, None)"
            ]
          },
          "metadata": {},
          "execution_count": 13
        }
      ]
    },
    {
      "cell_type": "markdown",
      "source": [
        "# Logistic Regression"
      ],
      "metadata": {
        "id": "whfjRn86P96_"
      }
    },
    {
      "cell_type": "code",
      "source": [
        "from sklearn.linear_model import LogisticRegression\n",
        "\n",
        "#using logistic regression to classify\n",
        "classifier_lr = LogisticRegression(random_state = 0, max_iter=1000).fit(X_train, y_train)\n",
        "y_pred_lr = classifier_lr.predict(X_test)\n",
        "print(\"Logistic Regression Predictions: \")\n",
        "print(y_pred_lr)\n",
        "print(\"Length: \", len(y_pred_lr))"
      ],
      "metadata": {
        "id": "I8kfcGIAQKL6",
        "colab": {
          "base_uri": "https://localhost:8080/"
        },
        "outputId": "36ea42ef-a3ce-469d-eef5-0a16253c6b4e"
      },
      "execution_count": null,
      "outputs": [
        {
          "output_type": "stream",
          "name": "stdout",
          "text": [
            "Logistic Regression Predictions: \n",
            "[1 0 0 0 0 0 0 0 1 0 0 0 0 0 0 0 0 0 0 0 0 0 0 0 0 0 0 0 0 0 0 0 0 0 1 0 0\n",
            " 1 0 0 0 0 0 1 0 0 0 0 1 0 1 0 0 0 0 0 0 0 0 0 0 0 0 0 0 0 0 0 0 0 0 0 0 1\n",
            " 0 0 1 0 1 0 0 1 1 0 0 0 0 0 0 0 0 0 0 0 0 0 0 0 0 0 0 0 0 0 1 0 1 1 0 0 0\n",
            " 0 0 0 0 0 0 0 1 1 0 0 0 0 0 0 0 0 1 0 0 0 0 0 0 0 0 1 1 0 0 1 0 0 0 0 0 0\n",
            " 0 1 0 0 0 0 0 0 1 0 0 1 0 0 0 0 0 0 0 0 0 0 0 0 0 0 0 0 0 0 0 0 0 0 0 0 0\n",
            " 0 1 1 0 0 0 0 0 0 1 0 0 0 0 0 0 0 0 0 0 0 0 1 0 0 0 0 0 0 0 0 0 0 0 0 0 0\n",
            " 0 0 0 1 0 0 0 0 0 0 0 0 0 0 1 0 0 0 0 0 0 0 0 0 0 1 0 0 0 0 0 0 0 0 0 1 0\n",
            " 0 0 1 0 0 1 0 0 0 0 1 0 1 1 0 0 0 0 0 0 1 0 0 0 1 0 0 0 0 0 0 0 0 0 1 0 0\n",
            " 0 0 0 0 0 0 0 0 0 0 0 1 0 0 0 0 0 0 0 1 0 0 0 0 0 0 0 1 0 0 0 1 0 0 0 0 0\n",
            " 0 0 0 0 0 0 0 0 0 0 0 0 0 0 0 0 0 0 0 0 0 0 0 0 0 0 0 0 0 0 0 1 0 0 0 0 0\n",
            " 0 0 0 0 0 1 0 0 1 0 1 0 0 0 0 0 0 0 0 0 0 0 0 0 0 0 0 0 0 0 0 0 0 0 1 0 0\n",
            " 0 0 0 0 0 0 0 1 0 0 1 0 0 0 0 0 0 1 0 0 0 0 1 0 1 0 0 0 0 0 0 0 0 1 0 0 0\n",
            " 0 0 0 0 0 0 0 0 1 0 1 0 0 0 0 0 0 0 0 0 0 0 0 0 0 1 0 0 0 0 0 0 1 0 0 0 0\n",
            " 0 0 0 0 1 1 0 0 0 0 0 0 0 1 0 0 1 1 0 0 0 0 0 0 0 0 0 0 0 0 0 0 0 0 0 0 0\n",
            " 0 0 0 0 0 0 0 0 0 1 0 0 0 0 0 0 0 0 0 0 0 0 0 0 0 0 0 0 0 0 0 0 0 0 0 0 0\n",
            " 0 0 0 0 1 0 0 0 0 0 0 0 0 0 0 0 0 0 0 0 0 0 1 0 0 1 0 0 0 0 0 0 0 1 0 0 0\n",
            " 0 0 1 0 1 0 1 0 0 0 1 0 0 0 0 0 0 0 0 0 1 0 0 0 0 0 1 0 0 0 0 0 0 0 0 0 0\n",
            " 0 0 0 1 0 1 0 0 0 0 0 0 1 0 0 0 0 0 0 0 0 0 0 0 0 0 0 0 0 0 0 0 0 0 0 0 0\n",
            " 0 0 0 0 0 1 0 0 0 0 0 0 0 1 0 0]\n",
            "Length:  682\n"
          ]
        }
      ]
    },
    {
      "cell_type": "code",
      "source": [
        "from sklearn import metrics\n",
        "\n",
        "#calculating performance metrics\n",
        "acc_lr = metrics.accuracy_score(y_test, y_pred_lr)\n",
        "f1_lr = metrics.f1_score(y_test, y_pred_lr)\n",
        "print(\"Logistic Regression Performance Metrics\")\n",
        "print(f\"Accuracy score: {acc_lr}\")\n",
        "print(f\"F1 score: {f1_lr}\")"
      ],
      "metadata": {
        "id": "L1buDtjDQNG7",
        "colab": {
          "base_uri": "https://localhost:8080/"
        },
        "outputId": "d96bb8b7-acdd-4899-85fb-f29d6ef6802f"
      },
      "execution_count": null,
      "outputs": [
        {
          "output_type": "stream",
          "name": "stdout",
          "text": [
            "Logistic Regression Performance Metrics\n",
            "Accuracy score: 0.9002932551319648\n",
            "F1 score: 0.3333333333333333\n"
          ]
        }
      ]
    },
    {
      "cell_type": "code",
      "source": [
        "import matplotlib.pyplot as plt\n",
        "import seaborn as sns\n",
        "\n",
        "#printing the confusion matrix\n",
        "confusion_lr = metrics.confusion_matrix(y_test, y_pred_lr, normalize='all')\n",
        "print(\"Normalized Confusion Matrix: \")\n",
        "print(confusion_lr)\n",
        "\n",
        "plt.figure(figsize=(8,8))\n",
        "labels = ['Not Bankrupt', 'Bankrupt']\n",
        "sns.heatmap(confusion_lr, annot=True, annot_kws={\"size\": 20}, linewidths = 0.5, square = True, cmap = 'Blues_r', xticklabels=labels, yticklabels=labels);\n",
        "sns.set(font_scale=1.5)\n",
        "plt.ylabel('Actual label');\n",
        "plt.xlabel('Predicted label');\n",
        "plt.title('Logistic Regression Confusion', size = 20);"
      ],
      "metadata": {
        "id": "GK2yuPyPQRdz",
        "colab": {
          "base_uri": "https://localhost:8080/",
          "height": 520
        },
        "outputId": "a4f6a6af-a39a-443f-85b9-6ae24eda23d9"
      },
      "execution_count": null,
      "outputs": [
        {
          "output_type": "stream",
          "name": "stdout",
          "text": [
            "Normalized Confusion Matrix: \n",
            "[[0.87536657 0.09237537]\n",
            " [0.00733138 0.02492669]]\n"
          ]
        },
        {
          "output_type": "display_data",
          "data": {
            "text/plain": [
              "<Figure size 576x576 with 2 Axes>"
            ],
            "image/png": "[encoded data removed]"
          },
          "metadata": {
            "needs_background": "light"
          }
        }
      ]
    },
    {
      "cell_type": "markdown",
      "source": [
        "# Perceptron"
      ],
      "metadata": {
        "id": "rNKQ9oU8Qfmr"
      }
    },
    {
      "cell_type": "code",
      "source": [
        "from sklearn.linear_model import Perceptron\n",
        "\n",
        "#using Perceptron to classify\n",
        "classifier_pct = Perceptron(penalty='l2', random_state=0).fit(X_train, y_train)\n",
        "y_pred_pct = classifier_pct.predict(X_test)\n",
        "print(\"Perceptron Predictions: \")\n",
        "print(y_pred_pct)\n",
        "print(\"Length: \", len(y_pred_pct))"
      ],
      "metadata": {
        "id": "USxn4qu1Qkpz",
        "colab": {
          "base_uri": "https://localhost:8080/"
        },
        "outputId": "9f73fae0-90f7-4395-cafa-4c54cc9c5381"
      },
      "execution_count": null,
      "outputs": [
        {
          "output_type": "stream",
          "name": "stdout",
          "text": [
            "Perceptron Predictions: \n",
            "[1 0 0 1 1 0 0 0 1 0 1 0 0 0 0 0 0 0 0 1 0 0 0 0 0 0 0 0 1 1 0 0 0 0 1 0 0\n",
            " 1 0 0 0 0 0 1 0 0 1 0 1 1 1 0 0 0 0 0 1 0 0 0 1 0 0 0 1 0 0 0 0 1 0 0 0 1\n",
            " 0 0 1 0 1 0 0 1 1 1 0 1 0 0 0 1 0 0 0 1 0 1 0 1 0 0 0 0 0 0 1 0 1 1 0 0 0\n",
            " 0 0 0 0 0 0 0 1 1 0 0 0 1 0 0 1 0 1 0 0 0 0 0 0 0 0 1 1 0 0 1 0 0 0 0 0 0\n",
            " 0 1 0 0 0 0 0 0 1 0 0 1 0 0 1 0 0 1 0 0 0 0 1 0 0 0 0 0 1 0 0 0 0 0 0 0 0\n",
            " 0 1 1 0 0 0 0 1 1 1 0 1 0 0 0 0 0 1 0 0 1 0 1 0 0 0 0 0 0 0 0 0 0 0 0 0 1\n",
            " 1 1 0 1 1 1 0 0 0 0 0 0 1 1 1 0 0 0 1 0 0 0 0 0 1 1 0 0 0 0 0 1 1 1 1 1 0\n",
            " 0 1 1 1 1 1 0 0 0 0 1 0 1 1 0 0 0 1 1 0 1 0 1 0 1 0 0 0 0 0 1 0 0 0 1 0 0\n",
            " 0 0 0 0 1 1 1 0 1 0 0 1 0 0 0 0 0 0 0 1 0 0 0 1 0 1 0 1 1 0 0 1 0 0 0 0 1\n",
            " 0 0 1 0 0 0 0 0 0 0 0 1 0 0 0 0 0 0 1 0 0 1 0 0 1 0 0 0 0 1 0 1 0 0 0 0 0\n",
            " 0 0 0 0 1 1 0 0 1 0 1 0 0 0 0 0 0 0 0 0 0 0 1 0 0 0 1 0 0 0 0 0 0 1 1 0 0\n",
            " 0 0 0 0 0 1 1 1 0 0 1 0 1 0 0 0 0 1 1 0 1 0 1 0 1 0 0 1 0 0 1 0 0 1 1 1 0\n",
            " 1 0 1 1 0 0 1 0 1 0 1 0 0 0 0 0 0 0 0 1 0 0 0 1 1 1 0 1 1 0 0 0 1 0 1 0 0\n",
            " 1 0 0 0 1 1 0 0 1 0 0 0 0 1 0 1 1 1 0 0 0 0 1 1 0 1 0 0 1 0 1 0 0 0 0 0 0\n",
            " 0 0 1 1 0 1 0 0 1 1 0 0 0 0 0 0 0 0 1 0 0 0 0 0 0 1 0 0 0 0 0 0 1 0 0 0 1\n",
            " 0 0 0 0 1 0 0 1 0 0 0 0 0 1 0 0 0 1 0 1 0 0 1 0 0 1 0 1 1 0 0 0 1 1 0 0 0\n",
            " 1 0 1 0 1 0 1 0 0 0 1 0 1 0 0 1 0 0 1 0 1 0 0 0 0 0 1 0 1 1 0 0 0 0 0 0 0\n",
            " 0 0 1 1 1 1 0 0 0 1 0 1 1 0 0 0 1 0 0 0 0 0 0 0 0 0 0 0 0 0 0 0 0 0 0 0 0\n",
            " 0 0 0 0 0 1 1 0 0 0 0 0 1 1 0 0]\n",
            "Length:  682\n"
          ]
        }
      ]
    },
    {
      "cell_type": "code",
      "source": [
        "#calculating performance metrics\n",
        "acc_pct = metrics.accuracy_score(y_test, y_pred_pct)\n",
        "f1_pct = metrics.f1_score(y_test, y_pred_pct)\n",
        "print(\"Perceptron Performance Metrics\")\n",
        "print(f\"Accuracy score: {acc_pct}\")\n",
        "print(f\"F1 score: {f1_pct}\")"
      ],
      "metadata": {
        "id": "rcLcC-0KQmen",
        "colab": {
          "base_uri": "https://localhost:8080/"
        },
        "outputId": "d6e7f2f3-8f1b-4191-ae35-c29394b3c65f"
      },
      "execution_count": null,
      "outputs": [
        {
          "output_type": "stream",
          "name": "stdout",
          "text": [
            "Perceptron Performance Metrics\n",
            "Accuracy score: 0.7360703812316716\n",
            "F1 score: 0.1964285714285714\n"
          ]
        }
      ]
    },
    {
      "cell_type": "code",
      "source": [
        "#printing the confusion matrix\n",
        "confusion_pct = metrics.confusion_matrix(y_test, y_pred_pct, normalize='all')\n",
        "print(\"Normalized Confusion Matrix: \")\n",
        "print(confusion_pct)\n",
        "\n",
        "plt.figure(figsize=(8,8))\n",
        "labels = ['Not Bankrupt', 'Bankrupt']\n",
        "sns.heatmap(confusion_pct, annot=True, annot_kws={\"size\": 20}, linewidths = 0.5, square = True, cmap = 'Blues_r', xticklabels=labels, yticklabels=labels);\n",
        "sns.set(font_scale=1.5)\n",
        "plt.ylabel('Actual label');\n",
        "plt.xlabel('Predicted label');\n",
        "plt.title('Perceptron Confusion', size = 20);"
      ],
      "metadata": {
        "id": "fB0kr792QoP_",
        "colab": {
          "base_uri": "https://localhost:8080/",
          "height": 535
        },
        "outputId": "7e5aa987-624a-40c2-d796-0351d1b49178"
      },
      "execution_count": null,
      "outputs": [
        {
          "output_type": "stream",
          "name": "stdout",
          "text": [
            "Normalized Confusion Matrix: \n",
            "[[0.70381232 0.26392962]\n",
            " [0.         0.03225806]]\n"
          ]
        },
        {
          "output_type": "display_data",
          "data": {
            "text/plain": [
              "<Figure size 576x576 with 2 Axes>"
            ],
            "image/png": "[encoded data removed]"
          },
          "metadata": {}
        }
      ]
    },
    {
      "cell_type": "markdown",
      "source": [
        "# Naive Bayes"
      ],
      "metadata": {
        "id": "MbzdQ8GPQq4_"
      }
    },
    {
      "cell_type": "code",
      "source": [
        "from sklearn.naive_bayes import GaussianNB\n",
        "\n",
        "#using Naive Bayes to classify\n",
        "classifier_nb = GaussianNB().fit(X_train, y_train)\n",
        "y_pred_nb = classifier_nb.predict(X_test)\n",
        "print(\"Naive Bayes Predictions: \")\n",
        "print(y_pred_nb)\n",
        "print(\"Length: \", len(y_pred_nb))"
      ],
      "metadata": {
        "id": "E3bUwLswQttD",
        "colab": {
          "base_uri": "https://localhost:8080/"
        },
        "outputId": "f748fdec-174a-47e1-d49e-363ac2af0833"
      },
      "execution_count": null,
      "outputs": [
        {
          "output_type": "stream",
          "name": "stdout",
          "text": [
            "Naive Bayes Predictions: \n",
            "[0 0 0 0 0 0 0 0 0 0 0 0 0 0 0 0 0 1 0 1 0 0 0 0 0 0 0 0 0 0 0 0 0 0 0 0 0\n",
            " 0 0 0 0 0 0 1 0 0 0 0 0 0 0 0 0 0 0 0 0 0 0 0 0 0 0 0 0 0 0 0 0 0 0 0 0 1\n",
            " 0 0 0 0 0 0 0 1 0 0 0 0 0 0 0 0 0 0 0 0 0 0 0 0 0 0 0 0 0 0 1 0 0 1 0 0 0\n",
            " 0 0 0 0 0 0 0 0 0 0 0 0 0 0 0 0 0 0 0 0 0 0 0 0 0 0 0 0 0 0 0 0 0 0 0 0 0\n",
            " 0 0 0 0 0 0 0 0 0 0 0 0 0 0 0 0 0 0 0 0 0 0 0 0 0 0 0 0 0 0 0 0 0 0 0 0 0\n",
            " 0 0 0 0 0 0 0 0 0 0 0 0 0 0 0 0 0 0 0 0 0 0 1 0 0 0 0 0 0 0 0 0 0 0 0 0 0\n",
            " 0 0 0 0 0 0 0 0 0 0 0 0 0 1 1 0 0 0 0 0 0 0 0 0 0 0 0 0 0 0 0 0 1 0 0 1 0\n",
            " 0 0 1 0 0 0 0 0 0 0 0 0 0 0 0 0 0 0 0 0 1 0 0 0 0 0 0 0 0 0 0 0 0 0 0 0 0\n",
            " 0 0 0 0 0 0 0 0 0 0 0 0 0 0 0 0 0 0 0 0 0 0 0 0 0 1 0 0 0 0 0 1 0 0 0 0 0\n",
            " 0 0 0 0 0 0 0 0 0 0 0 1 0 0 0 0 0 0 0 0 0 0 0 0 0 0 0 0 0 0 0 0 0 0 0 0 0\n",
            " 0 0 0 0 0 1 0 0 0 0 1 0 0 0 0 0 0 0 0 0 0 0 0 0 0 0 0 0 0 0 0 0 0 0 0 0 0\n",
            " 0 0 0 0 0 0 0 0 0 0 0 0 0 0 0 0 0 0 0 0 0 0 1 0 0 0 0 0 0 0 1 0 0 0 0 0 0\n",
            " 0 0 0 0 0 0 0 0 1 0 1 0 0 0 0 0 0 0 0 0 0 0 0 0 0 0 0 0 0 0 0 0 1 0 1 0 0\n",
            " 0 0 0 0 1 0 0 0 0 0 0 0 0 0 0 0 0 1 0 0 0 0 0 0 0 0 0 0 0 0 0 0 0 0 0 0 0\n",
            " 0 0 0 0 0 0 0 0 0 1 0 0 0 0 0 0 0 0 1 0 0 0 0 0 0 0 0 0 0 0 0 0 1 0 0 0 0\n",
            " 0 0 0 0 0 0 0 0 0 0 0 0 0 0 0 0 0 0 0 0 0 0 0 0 0 0 0 0 0 0 0 0 0 0 0 0 0\n",
            " 1 0 0 0 0 0 0 0 0 0 0 0 0 0 0 0 0 0 0 0 0 0 0 0 0 0 1 0 0 0 0 0 0 0 0 0 0\n",
            " 0 0 0 0 0 1 0 0 0 0 0 0 1 0 0 0 0 0 0 0 0 0 0 0 0 0 0 0 0 0 0 0 0 0 0 0 0\n",
            " 0 0 0 0 0 0 0 0 0 0 0 0 0 0 0 0]\n",
            "Length:  682\n"
          ]
        }
      ]
    },
    {
      "cell_type": "code",
      "source": [
        "#calculating performance metrics\n",
        "acc_nb = metrics.accuracy_score(y_test, y_pred_nb)\n",
        "f1_nb = metrics.f1_score(y_test, y_pred_nb)\n",
        "print(\"Naive Bayes Performance Metrics\")\n",
        "print(f\"Accuracy score: {acc_nb}\")\n",
        "print(f\"F1 score: {f1_nb}\")"
      ],
      "metadata": {
        "id": "M4iAHKMZQzaj",
        "colab": {
          "base_uri": "https://localhost:8080/"
        },
        "outputId": "9b572d67-62d2-49da-a47f-f60e6f2eb34f"
      },
      "execution_count": null,
      "outputs": [
        {
          "output_type": "stream",
          "name": "stdout",
          "text": [
            "Naive Bayes Performance Metrics\n",
            "Accuracy score: 0.9530791788856305\n",
            "F1 score: 0.42857142857142855\n"
          ]
        }
      ]
    },
    {
      "cell_type": "code",
      "source": [
        "#printing the confusion matrix\n",
        "confusion_nb = metrics.confusion_matrix(y_test, y_pred_nb, normalize='all')\n",
        "print(\"Normalized Confusion Matrix: \")\n",
        "print(confusion_nb)\n",
        "\n",
        "plt.figure(figsize=(8,8))\n",
        "labels = ['Not Bankrupt', 'Bankrupt']\n",
        "sns.heatmap(confusion_nb, annot=True, annot_kws={\"size\": 20}, linewidths = 0.5, square = True, cmap = 'Blues_r', xticklabels=labels, yticklabels=labels);\n",
        "sns.set(font_scale=1.5)\n",
        "plt.ylabel('Actual label');\n",
        "plt.xlabel('Predicted label');\n",
        "plt.title('Naive Bayes Confusion', size = 20);"
      ],
      "metadata": {
        "id": "3X53D7rWQ3K-",
        "colab": {
          "base_uri": "https://localhost:8080/",
          "height": 530
        },
        "outputId": "3cdc2349-7fc8-4155-e487-db14f2a61ad7"
      },
      "execution_count": null,
      "outputs": [
        {
          "output_type": "stream",
          "name": "stdout",
          "text": [
            "Normalized Confusion Matrix: \n",
            "[[0.93548387 0.03225806]\n",
            " [0.01466276 0.01759531]]\n"
          ]
        },
        {
          "output_type": "display_data",
          "data": {
            "text/plain": [
              "<Figure size 576x576 with 2 Axes>"
            ],
            "image/png": "[encoded data removed]"
          },
          "metadata": {}
        }
      ]
    },
    {
      "cell_type": "code",
      "source": [],
      "metadata": {
        "id": "kMS_Qt8ryjE3"
      },
      "execution_count": null,
      "outputs": []
    },
    {
      "cell_type": "markdown",
      "source": [
        "# Support Vector Machine (SVM)\n"
      ],
      "metadata": {
        "id": "sa9Sjx6pZ3-E"
      }
    },
    {
      "cell_type": "code",
      "source": [
        "from sklearn.datasets import make_blobs\n",
        "from sklearn.model_selection import train_test_split\n",
        "from sklearn.metrics import confusion_matrix, accuracy_score, f1_score\n",
        "from sklearn.svm import SVC\n",
        "\n",
        "from matplotlib import pyplot as plt\n",
        "import numpy as np\n",
        "import pandas as pd\n",
        "import seaborn as sns"
      ],
      "metadata": {
        "id": "4MxWggreXO6_"
      },
      "execution_count": null,
      "outputs": []
    },
    {
      "cell_type": "code",
      "source": [
        "#Simple illustration of how SVM works\n",
        "\n",
        "X, y = make_blobs(n_samples = 200, centers =2, cluster_std=0.60, random_state =0)\n",
        "train_X, test_X, train_y, test_t = train_test_split(X, y, test_size=20, random_state=0)\n",
        "plt.scatter(train_X[:, 0], train_X[:, 1], c=train_y, cmap='winter')\n",
        "plt.show()"
      ],
      "metadata": {
        "colab": {
          "base_uri": "https://localhost:8080/",
          "height": 265
        },
        "id": "YU4_K1Stnam8",
        "outputId": "75387555-860a-459c-b50f-fb74642136cc"
      },
      "execution_count": null,
      "outputs": [
        {
          "output_type": "display_data",
          "data": {
            "text/plain": [
              "<Figure size 432x288 with 1 Axes>"
            ],
            "image/png": "[encoded data removed]"
          },
          "metadata": {
            "needs_background": "light"
          }
        }
      ]
    },
    {
      "cell_type": "code",
      "source": [
        "svc = SVC(kernel='linear')\n",
        "svc.fit(train_X, train_y)"
      ],
      "metadata": {
        "colab": {
          "base_uri": "https://localhost:8080/"
        },
        "id": "RNZ1lq7EoGlr",
        "outputId": "f7bf4a10-93e2-47d4-e734-b6e2dbfdf706"
      },
      "execution_count": null,
      "outputs": [
        {
          "output_type": "execute_result",
          "data": {
            "text/plain": [
              "SVC(kernel='linear')"
            ]
          },
          "metadata": {},
          "execution_count": 71
        }
      ]
    },
    {
      "cell_type": "code",
      "source": [
        "plt.scatter(train_X[:, 0], train_X[:, 1], c=train_y, cmap='winter')\n",
        "\n",
        "ax = plt.gca()\n",
        "xlim = ax.get_xlim()\n",
        "\n",
        "ax.scatter(test_X[:, 0], test_X[:, 1], c=test_y, cmap='winter', marker='s')\n",
        "\n",
        "w= svc.coef_[0]\n",
        "a = -w[0] / w[1]\n",
        "xx = np.linspace(xlim[0], xlim[1])\n",
        "yy = a* xx -(svc. intercept_[0]/ w[1])\n",
        "plt.plot(xx, yy)\n",
        "plt.show()"
      ],
      "metadata": {
        "id": "w9taNvwPoNLB",
        "colab": {
          "base_uri": "https://localhost:8080/",
          "height": 265
        },
        "outputId": "c8a86b8a-ee3b-4e9b-cfdd-9c95f44518d0"
      },
      "execution_count": null,
      "outputs": [
        {
          "output_type": "display_data",
          "data": {
            "text/plain": [
              "<Figure size 432x288 with 1 Axes>"
            ],
            "image/png": "[encoded data removed]"
          },
          "metadata": {
            "needs_background": "light"
          }
        }
      ]
    },
    {
      "cell_type": "code",
      "source": [
        "#Visualization using feature 1 & feature 2\n",
        "\n",
        "print(X_train[:, 0].shape)\n",
        "print(X_train[:, 1].shape)\n",
        "print(y_train.shape)\n",
        "plt.scatter(X_train[:, 0], X_train[:, 1], c=y_train, cmap = 'winter')\n",
        "plt.show()"
      ],
      "metadata": {
        "colab": {
          "base_uri": "https://localhost:8080/",
          "height": 319
        },
        "id": "BaqCuWEzkqhd",
        "outputId": "96c1d90d-a200-42b4-accb-d47a7991ac8a"
      },
      "execution_count": null,
      "outputs": [
        {
          "output_type": "stream",
          "name": "stdout",
          "text": [
            "(5455,)\n",
            "(5455,)\n",
            "(5455,)\n"
          ]
        },
        {
          "output_type": "display_data",
          "data": {
            "text/plain": [
              "<Figure size 432x288 with 1 Axes>"
            ],
            "image/png": "[encoded data removed]"
          },
          "metadata": {
            "needs_background": "light"
          }
        }
      ]
    },
    {
      "cell_type": "code",
      "source": [
        "#Using kernel = 'linear'\n",
        "classifier = SVC(kernel = 'linear', random_state = 0)\n",
        "classifier.fit(X_train, y_train)\n",
        "\n",
        "y_hat = classifier.predict(X_test)\n",
        "svm_cm = confusion_matrix(y_test, y_hat)\n",
        "print(svm_cm)\n",
        "\n",
        "sns.heatmap(svm_cm, cmap=\"YlGnBu\")\n",
        "plt.show()\n",
        "\n",
        "svm_accuracy = accuracy_score(y_test, y_hat)\n",
        "\n",
        "print(f\"Accuracy score: {svm_accuracy}\")\n",
        "print(\"f1 score:\", f1_score(y_test, y_hat))\n",
        "\n",
        "#Using kernel='poly'\n",
        "classifier = SVC(kernel = 'poly', random_state = 0)\n",
        "classifier.fit(X_train, y_train)\n",
        "\n",
        "y_hat1 = classifier.predict(X_test)\n",
        "svm_cm = confusion_matrix(y_test, y_hat1)\n",
        "print(svm_cm)\n",
        "\n",
        "sns.heatmap(svm_cm, cmap=\"Set2\")\n",
        "plt.show()\n",
        "\n",
        "svm_accuracy = accuracy_score(y_test, y_hat1)\n",
        "print(f\"Accuracy score: {svm_accuracy}\")\n",
        "print(\"f1 score:\", f1_score(y_test, y_hat1))\n",
        "\n",
        "#Using kernel='sigmoid'\n",
        "classifier = SVC(kernel = 'sigmoid', random_state = 0)\n",
        "classifier.fit(X_train, y_train)\n",
        "\n",
        "y_hat2 = classifier.predict(X_test)\n",
        "svm_cm = confusion_matrix(y_test, y_hat2)\n",
        "print(svm_cm)\n",
        "\n",
        "sns.heatmap(svm_cm, cmap=\"Paired\")\n",
        "plt.show()\n",
        "\n",
        "svm_accuracy = accuracy_score(y_test, y_hat2)\n",
        "print(f\"Accuracy score: {svm_accuracy}\")\n",
        "print(\"f1 score:\", f1_score(y_test, y_hat2))\n",
        "\n",
        "\n"
      ],
      "metadata": {
        "colab": {
          "base_uri": "https://localhost:8080/",
          "height": 975
        },
        "id": "Qt3AN_BJkG9V",
        "outputId": "8f32360d-a952-467b-9eed-6f28908d20bf"
      },
      "execution_count": null,
      "outputs": [
        {
          "output_type": "stream",
          "name": "stdout",
          "text": [
            "[[666   0]\n",
            " [ 16   0]]\n"
          ]
        },
        {
          "output_type": "display_data",
          "data": {
            "text/plain": [
              "<Figure size 432x288 with 2 Axes>"
            ],
            "image/png": "[encoded data removed]"
          },
          "metadata": {
            "needs_background": "light"
          }
        },
        {
          "output_type": "stream",
          "name": "stdout",
          "text": [
            "Accuracy score: 0.9765395894428153\n",
            "f1 score: 0.0\n",
            "[[665   1]\n",
            " [ 15   1]]\n"
          ]
        },
        {
          "output_type": "display_data",
          "data": {
            "text/plain": [
              "<Figure size 432x288 with 2 Axes>"
            ],
            "image/png": "[encoded data removed]"
          },
          "metadata": {
            "needs_background": "light"
          }
        },
        {
          "output_type": "stream",
          "name": "stdout",
          "text": [
            "Accuracy score: 0.9765395894428153\n",
            "f1 score: 0.1111111111111111\n",
            "[[648  18]\n",
            " [ 16   0]]\n"
          ]
        },
        {
          "output_type": "display_data",
          "data": {
            "text/plain": [
              "<Figure size 432x288 with 2 Axes>"
            ],
            "image/png": "[encoded data removed]"
          },
          "metadata": {
            "needs_background": "light"
          }
        },
        {
          "output_type": "stream",
          "name": "stdout",
          "text": [
            "Accuracy score: 0.9501466275659824\n",
            "f1 score: 0.0\n"
          ]
        }
      ]
    },
    {
      "cell_type": "markdown",
      "source": [
        "# Shallow Neural Network"
      ],
      "metadata": {
        "id": "MtXxFfwBqGJw"
      }
    },
    {
      "cell_type": "code",
      "source": [
        "from keras.models import Sequential\n",
        "from keras.layers import Dense\n",
        "\n",
        "model = Sequential()\n",
        "model.add(Dense(6, activation='relu', input_dim=X_train.shape[1]))\n",
        "model.add(Dense(1, activation='sigmoid', input_dim=X_train.shape[1]))\n",
        "model.compile(loss='binary_crossentropy', optimizer='adam', metrics=['accuracy'])\n",
        "model.summary()"
      ],
      "metadata": {
        "colab": {
          "base_uri": "https://localhost:8080/"
        },
        "id": "jsMoJgg4p90v",
        "outputId": "489d9b3c-679c-4c27-bce2-c70961108447"
      },
      "execution_count": null,
      "outputs": [
        {
          "output_type": "stream",
          "name": "stdout",
          "text": [
            "Model: \"sequential_7\"\n",
            "_________________________________________________________________\n",
            " Layer (type)                Output Shape              Param #   \n",
            "=================================================================\n",
            " dense_18 (Dense)            (None, 6)                 66        \n",
            "                                                                 \n",
            " dense_19 (Dense)            (None, 1)                 7         \n",
            "                                                                 \n",
            "=================================================================\n",
            "Total params: 73\n",
            "Trainable params: 73\n",
            "Non-trainable params: 0\n",
            "_________________________________________________________________\n"
          ]
        }
      ]
    },
    {
      "cell_type": "code",
      "source": [
        "hist = model.fit(X_train, y_train, validation_data=(X_valid, y_valid), epochs=40, batch_size=15)"
      ],
      "metadata": {
        "colab": {
          "base_uri": "https://localhost:8080/"
        },
        "id": "xUk7KRddqJci",
        "outputId": "11de8669-40b1-4b08-f8a3-cc2983c7716d"
      },
      "execution_count": null,
      "outputs": [
        {
          "output_type": "stream",
          "name": "stdout",
          "text": [
            "Epoch 1/40\n",
            "364/364 [==============================] - 1s 3ms/step - loss: 0.0911 - accuracy: 0.9676 - val_loss: 0.0820 - val_accuracy: 0.9765\n",
            "Epoch 2/40\n",
            "364/364 [==============================] - 1s 3ms/step - loss: 0.0910 - accuracy: 0.9674 - val_loss: 0.0827 - val_accuracy: 0.9751\n",
            "Epoch 3/40\n",
            "364/364 [==============================] - 1s 3ms/step - loss: 0.0908 - accuracy: 0.9677 - val_loss: 0.0822 - val_accuracy: 0.9751\n",
            "Epoch 4/40\n",
            "364/364 [==============================] - 3s 7ms/step - loss: 0.0908 - accuracy: 0.9676 - val_loss: 0.0825 - val_accuracy: 0.9751\n",
            "Epoch 5/40\n",
            "364/364 [==============================] - 2s 5ms/step - loss: 0.0908 - accuracy: 0.9677 - val_loss: 0.0822 - val_accuracy: 0.9751\n",
            "Epoch 6/40\n",
            "364/364 [==============================] - 1s 2ms/step - loss: 0.0903 - accuracy: 0.9674 - val_loss: 0.0804 - val_accuracy: 0.9780\n",
            "Epoch 7/40\n",
            "364/364 [==============================] - 1s 2ms/step - loss: 0.0902 - accuracy: 0.9676 - val_loss: 0.0807 - val_accuracy: 0.9780\n",
            "Epoch 8/40\n",
            "364/364 [==============================] - 1s 2ms/step - loss: 0.0904 - accuracy: 0.9679 - val_loss: 0.0836 - val_accuracy: 0.9736\n",
            "Epoch 9/40\n",
            "364/364 [==============================] - 1s 2ms/step - loss: 0.0905 - accuracy: 0.9676 - val_loss: 0.0816 - val_accuracy: 0.9765\n",
            "Epoch 10/40\n",
            "364/364 [==============================] - 1s 2ms/step - loss: 0.0902 - accuracy: 0.9676 - val_loss: 0.0815 - val_accuracy: 0.9765\n",
            "Epoch 11/40\n",
            "364/364 [==============================] - 1s 2ms/step - loss: 0.0902 - accuracy: 0.9679 - val_loss: 0.0818 - val_accuracy: 0.9765\n",
            "Epoch 12/40\n",
            "364/364 [==============================] - 1s 2ms/step - loss: 0.0901 - accuracy: 0.9683 - val_loss: 0.0814 - val_accuracy: 0.9765\n",
            "Epoch 13/40\n",
            "364/364 [==============================] - 1s 2ms/step - loss: 0.0895 - accuracy: 0.9683 - val_loss: 0.0821 - val_accuracy: 0.9765\n",
            "Epoch 14/40\n",
            "364/364 [==============================] - 1s 2ms/step - loss: 0.0899 - accuracy: 0.9676 - val_loss: 0.0812 - val_accuracy: 0.9765\n",
            "Epoch 15/40\n",
            "364/364 [==============================] - 1s 2ms/step - loss: 0.0896 - accuracy: 0.9679 - val_loss: 0.0811 - val_accuracy: 0.9765\n",
            "Epoch 16/40\n",
            "364/364 [==============================] - 1s 2ms/step - loss: 0.0896 - accuracy: 0.9683 - val_loss: 0.0803 - val_accuracy: 0.9780\n",
            "Epoch 17/40\n",
            "364/364 [==============================] - 1s 2ms/step - loss: 0.0894 - accuracy: 0.9688 - val_loss: 0.0827 - val_accuracy: 0.9751\n",
            "Epoch 18/40\n",
            "364/364 [==============================] - 1s 2ms/step - loss: 0.0895 - accuracy: 0.9683 - val_loss: 0.0823 - val_accuracy: 0.9765\n",
            "Epoch 19/40\n",
            "364/364 [==============================] - 1s 2ms/step - loss: 0.0894 - accuracy: 0.9683 - val_loss: 0.0797 - val_accuracy: 0.9795\n",
            "Epoch 20/40\n",
            "364/364 [==============================] - 1s 2ms/step - loss: 0.0893 - accuracy: 0.9690 - val_loss: 0.0823 - val_accuracy: 0.9751\n",
            "Epoch 21/40\n",
            "364/364 [==============================] - 1s 2ms/step - loss: 0.0892 - accuracy: 0.9685 - val_loss: 0.0792 - val_accuracy: 0.9795\n",
            "Epoch 22/40\n",
            "364/364 [==============================] - 1s 2ms/step - loss: 0.0893 - accuracy: 0.9685 - val_loss: 0.0806 - val_accuracy: 0.9780\n",
            "Epoch 23/40\n",
            "364/364 [==============================] - 1s 2ms/step - loss: 0.0891 - accuracy: 0.9679 - val_loss: 0.0809 - val_accuracy: 0.9780\n",
            "Epoch 24/40\n",
            "364/364 [==============================] - 1s 2ms/step - loss: 0.0891 - accuracy: 0.9683 - val_loss: 0.0804 - val_accuracy: 0.9780\n",
            "Epoch 25/40\n",
            "364/364 [==============================] - 1s 2ms/step - loss: 0.0892 - accuracy: 0.9687 - val_loss: 0.0819 - val_accuracy: 0.9751\n",
            "Epoch 26/40\n",
            "364/364 [==============================] - 1s 2ms/step - loss: 0.0890 - accuracy: 0.9677 - val_loss: 0.0801 - val_accuracy: 0.9795\n",
            "Epoch 27/40\n",
            "364/364 [==============================] - 1s 2ms/step - loss: 0.0889 - accuracy: 0.9681 - val_loss: 0.0804 - val_accuracy: 0.9780\n",
            "Epoch 28/40\n",
            "364/364 [==============================] - 1s 2ms/step - loss: 0.0884 - accuracy: 0.9688 - val_loss: 0.0797 - val_accuracy: 0.9795\n",
            "Epoch 29/40\n",
            "364/364 [==============================] - 1s 2ms/step - loss: 0.0890 - accuracy: 0.9685 - val_loss: 0.0808 - val_accuracy: 0.9780\n",
            "Epoch 30/40\n",
            "364/364 [==============================] - 1s 2ms/step - loss: 0.0885 - accuracy: 0.9694 - val_loss: 0.0796 - val_accuracy: 0.9809\n",
            "Epoch 31/40\n",
            "364/364 [==============================] - 1s 2ms/step - loss: 0.0888 - accuracy: 0.9679 - val_loss: 0.0800 - val_accuracy: 0.9780\n",
            "Epoch 32/40\n",
            "364/364 [==============================] - 1s 2ms/step - loss: 0.0887 - accuracy: 0.9683 - val_loss: 0.0804 - val_accuracy: 0.9780\n",
            "Epoch 33/40\n",
            "364/364 [==============================] - 1s 2ms/step - loss: 0.0889 - accuracy: 0.9677 - val_loss: 0.0804 - val_accuracy: 0.9780\n",
            "Epoch 34/40\n",
            "364/364 [==============================] - 1s 2ms/step - loss: 0.0887 - accuracy: 0.9679 - val_loss: 0.0803 - val_accuracy: 0.9780\n",
            "Epoch 35/40\n",
            "364/364 [==============================] - 1s 2ms/step - loss: 0.0885 - accuracy: 0.9685 - val_loss: 0.0789 - val_accuracy: 0.9780\n",
            "Epoch 36/40\n",
            "364/364 [==============================] - 1s 2ms/step - loss: 0.0883 - accuracy: 0.9683 - val_loss: 0.0803 - val_accuracy: 0.9780\n",
            "Epoch 37/40\n",
            "364/364 [==============================] - 1s 2ms/step - loss: 0.0884 - accuracy: 0.9692 - val_loss: 0.0823 - val_accuracy: 0.9765\n",
            "Epoch 38/40\n",
            "364/364 [==============================] - 1s 2ms/step - loss: 0.0885 - accuracy: 0.9685 - val_loss: 0.0803 - val_accuracy: 0.9780\n",
            "Epoch 39/40\n",
            "364/364 [==============================] - 1s 2ms/step - loss: 0.0883 - accuracy: 0.9688 - val_loss: 0.0791 - val_accuracy: 0.9809\n",
            "Epoch 40/40\n",
            "364/364 [==============================] - 1s 2ms/step - loss: 0.0882 - accuracy: 0.9687 - val_loss: 0.0819 - val_accuracy: 0.9765\n"
          ]
        }
      ]
    },
    {
      "cell_type": "code",
      "source": [
        "import seaborn as sns\n",
        "import matplotlib.pyplot as plt\n",
        "%matplotlib inline\n",
        "\n",
        "sns.set()\n",
        "acc = hist.history['accuracy']\n",
        "val = hist.history['val_accuracy']\n",
        "epochs = range(1, len(acc) + 1)\n",
        "\n",
        "plt.plot(epochs, acc, '-', label='Training accuracy')\n",
        "plt.plot(epochs, val, ':', label='Validation accuracy')\n",
        "plt.title('Training and Validation Accuracy')\n",
        "plt.xlabel('Epoch')\n",
        "plt.ylabel('Accuracy')\n",
        "plt.legend(loc='lower right')\n",
        "plt.plot()"
      ],
      "metadata": {
        "colab": {
          "base_uri": "https://localhost:8080/",
          "height": 319
        },
        "id": "GMtD396Uwr0X",
        "outputId": "23e51b0b-d5db-42be-c5c0-fc2350a727f2"
      },
      "execution_count": null,
      "outputs": [
        {
          "output_type": "execute_result",
          "data": {
            "text/plain": [
              "[]"
            ]
          },
          "metadata": {},
          "execution_count": 41
        },
        {
          "output_type": "display_data",
          "data": {
            "text/plain": [
              "<Figure size 432x288 with 1 Axes>"
            ],
            "image/png": "[encoded data removed]"
          },
          "metadata": {}
        }
      ]
    },
    {
      "cell_type": "code",
      "source": [
        "from sklearn.metrics import confusion_matrix\n",
        "\n",
        "y_predicted = model.predict(X_test) > 0.5\n",
        "mat = confusion_matrix(y_test, y_predicted)\n",
        "labels = ['Legitimate', 'Fraudulent']\n",
        "\n",
        "sns.heatmap(mat, square=True, annot=True, fmt='d', cbar=False, cmap='Blues',\n",
        "            xticklabels=labels, yticklabels=labels)\n",
        "\n",
        "plt.xlabel('Predicted label')\n",
        "plt.ylabel('Actual label')\n",
        "\n",
        "\n",
        "# #confusion matrix:\n",
        "# model_pred = model.predict(X_test)\n",
        "# matrix = confusion_matrix(y_test, model_pred)\n",
        "# confusion_matrix_average1 = confusion_matrix_average1 + matrix\n",
        "# print(f\"loop {i} classification report:\", classification_report(y_test.argmax(axis=1), model_pred.argmax(axis=1)))\n",
        "\n",
        "#evaluate the model:\n",
        "tn, fp, fn, tp = mat.ravel()\n",
        "f1_score = tp/ (tp+0.5*(fp+fn))\n",
        "print(\"f1 score:\", f1_score)\n",
        "# list_scores_keras.append(f1_score)"
      ],
      "metadata": {
        "colab": {
          "base_uri": "https://localhost:8080/",
          "height": 303
        },
        "id": "xp8gP1Sy0LBX",
        "outputId": "18c0e984-b061-4bc9-eef4-7f537d887325"
      },
      "execution_count": null,
      "outputs": [
        {
          "output_type": "stream",
          "name": "stdout",
          "text": [
            "f1 score: 0.2\n"
          ]
        },
        {
          "output_type": "display_data",
          "data": {
            "text/plain": [
              "<Figure size 432x288 with 1 Axes>"
            ],
            "image/png": "[encoded data removed]"
          },
          "metadata": {}
        }
      ]
    }
  ]
}